{
 "cells": [
  {
   "cell_type": "code",
   "execution_count": 2,
   "metadata": {},
   "outputs": [
    {
     "name": "stdout",
     "output_type": "stream",
     "text": [
      "loading annotations into memory...\n",
      "creating index...\n",
      "loading annotations into memory...\n",
      "Done (t=0.71s)\n",
      "creating index...\n",
      "index created!\n",
      "index created!\n",
      "Done (t=0.82s)\n"
     ]
    }
   ],
   "source": [
    "from dataloader import CoCoDataset, TransformPipeline, train_augmentation\n",
    "\n",
    "dataset = CoCoDataset(\n",
    "    [\n",
    "        dict(\n",
    "            img_root=\"/shared/data/chromo_coco/cropped_datasets/1kcrop-segm-coco/train\",\n",
    "            ann_file=\"/shared/data/chromo_coco/cropped_datasets/1kcrop-segm-coco/annotations/chromosome_train.json\",\n",
    "        )\n",
    "    ],\n",
    "    transforms=TransformPipeline(train_augmentation)\n",
    ")"
   ]
  }
 ],
 "metadata": {
  "kernelspec": {
   "display_name": "myseg",
   "language": "python",
   "name": "python3"
  },
  "language_info": {
   "codemirror_mode": {
    "name": "ipython",
    "version": 3
   },
   "file_extension": ".py",
   "mimetype": "text/x-python",
   "name": "python",
   "nbconvert_exporter": "python",
   "pygments_lexer": "ipython3",
   "version": "3.12.7"
  }
 },
 "nbformat": 4,
 "nbformat_minor": 2
}
